{
 "cells": [
  {
   "cell_type": "code",
   "execution_count": 1,
   "metadata": {},
   "outputs": [
    {
     "ename": "ModuleNotFoundError",
     "evalue": "No module named 'ydata_profiling'",
     "output_type": "error",
     "traceback": [
      "\u001b[31m---------------------------------------------------------------------------\u001b[39m",
      "\u001b[31mModuleNotFoundError\u001b[39m                       Traceback (most recent call last)",
      "\u001b[36mCell\u001b[39m\u001b[36m \u001b[39m\u001b[32mIn[1]\u001b[39m\u001b[32m, line 2\u001b[39m\n\u001b[32m      1\u001b[39m \u001b[38;5;28;01mimport\u001b[39;00m\u001b[38;5;250m \u001b[39m\u001b[34;01mpandas\u001b[39;00m\u001b[38;5;250m \u001b[39m\u001b[38;5;28;01mas\u001b[39;00m\u001b[38;5;250m \u001b[39m\u001b[34;01mpd\u001b[39;00m\n\u001b[32m----> \u001b[39m\u001b[32m2\u001b[39m \u001b[38;5;28;01mfrom\u001b[39;00m\u001b[38;5;250m \u001b[39m\u001b[34;01mydata_profiling\u001b[39;00m\u001b[38;5;250m \u001b[39m\u001b[38;5;28;01mimport\u001b[39;00m ProfileReport  \u001b[38;5;66;03m# Updated import\u001b[39;00m\n\u001b[32m      4\u001b[39m \u001b[38;5;66;03m# Load a sample dataset or your own data into a Pandas DataFrame. You can use public datasets like those available in seaborn or CSV files:\u001b[39;00m\n\u001b[32m      5\u001b[39m \n\u001b[32m      6\u001b[39m \u001b[38;5;66;03m# Example with a built-in dataset\u001b[39;00m\n\u001b[32m      7\u001b[39m \u001b[38;5;28;01mfrom\u001b[39;00m\u001b[38;5;250m \u001b[39m\u001b[34;01mseaborn\u001b[39;00m\u001b[38;5;250m \u001b[39m\u001b[38;5;28;01mimport\u001b[39;00m load_dataset\n",
      "\u001b[31mModuleNotFoundError\u001b[39m: No module named 'ydata_profiling'"
     ]
    }
   ],
   "source": [
    "import pandas as pd\n",
    "from ydata_profiling import ProfileReport  # Updated import\n",
    "\n",
    "# Load a sample dataset or your own data into a Pandas DataFrame. You can use public datasets like those available in seaborn or CSV files:\n",
    "\n",
    "# Example with a built-in dataset\n",
    "from seaborn import load_dataset\n",
    "data = load_dataset('titanic')\n",
    "\n",
    "# Example with a CSV file\n",
    "# data = pd.read_csv(\"titanic.csv\")\n",
    "\n",
    "print(data.head())\n",
    "\n",
    "# Generate the Pandas Profiling Report\n",
    "# Create a profile report from your DataFrame:\n",
    "profile = ProfileReport(data, title=\"Pandas Profiling Report\", explorative=True)\n",
    "\n",
    "# Display the report in a Jupyter Notebook\n",
    "profile.to_notebook_iframe()\n",
    "\n",
    "# Alternatively, save the report as an HTML file\n",
    "profile.to_file(\"pandas_profiling_report.html\")\n",
    "\n",
    "\n",
    "# Step 5: Analyze the Report\n",
    "# Open the generated report and examine key sections:\n",
    "# Overview:\n",
    "# Dataset statistics: Number of rows, columns, memory usage, etc.\n",
    "# Variables:\n",
    "# Detailed information about each column: missing values, types, unique values, etc.\n",
    "# Interactions:\n",
    "# Pairwise relationships between variables (e.g., correlations).\n",
    "# Missing Values:\n",
    "# Visualizations showing the distribution of missing data.\n",
    "# Correlations:\n",
    "# Heatmap of correlations between numeric columns.\n",
    "# Warnings:\n",
    "# Highlights issues like high cardinality, constant values, or skewed distributions.\n",
    "\n",
    "# Step 6: Test with Different Datasets\n",
    "# Test the tool on various datasets:\n",
    "# Small vs. large datasets.\n",
    "# Clean vs. messy datasets with missing or inconsistent values.\n",
    "# Check the performance and usability of the tool.\n",
    "\n",
    "# Step 7: Customize the Report\n",
    "# Adjust settings for specific needs.\n",
    "# Disable correlation analysis\n",
    "# Older version\n",
    "# profile = ProfileReport(data, correlations={\"pearson\": False})\n",
    "\n",
    "from ydata_profiling.config import Settings\n",
    "from ydata_profiling import ProfileReport\n",
    "\n",
    "config = Settings()\n",
    "config.interactions.continuous = False  # Disable continuous correlations\n",
    "config.interactions.targets = False     # Disable target correlations\n",
    "\n",
    "profile = ProfileReport(data, config=config)\n",
    "\n",
    "# Focus on specific columns\n",
    "\n",
    "# profile = ProfileReport(data[['column1', 'column2']])\n",
    "# Use configurations for large datasets\n",
    "\n",
    "profile = ProfileReport(data, minimal=True)\n",
    "# Step 8: Share the Results\n",
    "# Save the report and share it with others\n",
    "profile.to_file(\"report.html\")\n"
   ]
  }
 ],
 "metadata": {
  "kernelspec": {
   "display_name": "Python 3",
   "language": "python",
   "name": "python3"
  },
  "language_info": {
   "codemirror_mode": {
    "name": "ipython",
    "version": 3
   },
   "file_extension": ".py",
   "mimetype": "text/x-python",
   "name": "python",
   "nbconvert_exporter": "python",
   "pygments_lexer": "ipython3",
   "version": "3.12.10"
  }
 },
 "nbformat": 4,
 "nbformat_minor": 2
}
