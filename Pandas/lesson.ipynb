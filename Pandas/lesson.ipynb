{
 "cells": [
  {
   "cell_type": "markdown",
   "id": "c43ec764",
   "metadata": {},
   "source": [
    "DataFrame"
   ]
  },
  {
   "cell_type": "code",
   "execution_count": 1,
   "id": "f15ae896",
   "metadata": {},
   "outputs": [
    {
     "name": "stdout",
     "output_type": "stream",
     "text": [
      "        Name  Age  Salary  Gender\n",
      "0      Mg Mg   25   50000    Male\n",
      "1  Aung Aung   30   55000    Male\n",
      "2      Ma Ma   22   40000  Female\n",
      "3    Hla Hla   35   70000  Female\n",
      "4  Kyaw Kyaw   28   48000    Male\n"
     ]
    }
   ],
   "source": [
    "import pandas as pd\n",
    "\n",
    "data = {\n",
    "        'Name': ['Mg Mg', 'Aung Aung', 'Ma Ma', 'Hla Hla', 'Kyaw Kyaw'], \n",
    "        'Age': [25, 30, 22, 35, 28], \n",
    "        'Gender': ['Male', 'Male', 'Female', 'Female', 'Male'], \n",
    "        'Salary': [50000, 55000, 40000, 70000, 48000]\n",
    "        }\n",
    "\n",
    "df = pd.DataFrame(data)\n",
    "print(df[['Name','Age', 'Salary', 'Gender']]) #col select\n"
   ]
  },
  {
   "cell_type": "code",
   "execution_count": 2,
   "id": "6a0a8048",
   "metadata": {},
   "outputs": [
    {
     "name": "stdout",
     "output_type": "stream",
     "text": [
      "        Name  Age  Salary  Gender\n",
      "0      Mg Mg   25   50000    Male\n",
      "1  Aung Aung   30   55000    Male\n",
      "2      Ma Ma   22   40000  Female\n",
      "3    Hla Hla   35   70000  Female\n",
      "4  Kyaw Kyaw   28   48000    Male\n"
     ]
    }
   ],
   "source": [
    "print(df[['Name','Age', 'Salary', 'Gender']]) #col select"
   ]
  },
  {
   "cell_type": "code",
   "execution_count": 3,
   "id": "198da765",
   "metadata": {},
   "outputs": [
    {
     "name": "stdout",
     "output_type": "stream",
     "text": [
      "Name      Aung Aung\n",
      "Age              30\n",
      "Gender         Male\n",
      "Salary        55000\n",
      "Name: 1, dtype: object\n"
     ]
    }
   ],
   "source": [
    "print(df.iloc[1])  #row select"
   ]
  },
  {
   "cell_type": "code",
   "execution_count": 4,
   "id": "63277b43",
   "metadata": {},
   "outputs": [
    {
     "name": "stdout",
     "output_type": "stream",
     "text": [
      "        Name  Age  Gender  Salary\n",
      "1  Aung Aung   30    Male   55000\n",
      "2      Ma Ma   22  Female   40000\n",
      "3    Hla Hla   35  Female   70000\n",
      "4  Kyaw Kyaw   28    Male   48000\n"
     ]
    }
   ],
   "source": [
    "print(df.iloc[1:5])"
   ]
  }
 ],
 "metadata": {
  "kernelspec": {
   "display_name": "Python 3",
   "language": "python",
   "name": "python3"
  },
  "language_info": {
   "codemirror_mode": {
    "name": "ipython",
    "version": 3
   },
   "file_extension": ".py",
   "mimetype": "text/x-python",
   "name": "python",
   "nbconvert_exporter": "python",
   "pygments_lexer": "ipython3",
   "version": "3.12.7"
  }
 },
 "nbformat": 4,
 "nbformat_minor": 5
}
