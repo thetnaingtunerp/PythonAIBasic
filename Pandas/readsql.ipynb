{
 "cells": [
  {
   "cell_type": "code",
   "execution_count": 1,
   "id": "e4bee37d",
   "metadata": {},
   "outputs": [],
   "source": [
    "import sqlite3\n",
    "import pandas as pd\n",
    "\n",
    "# Connect to the SQLite database file\n",
    "# If the file doesn't exist, it will be created.\n",
    "conn = sqlite3.connect('mydb.db')"
   ]
  },
  {
   "cell_type": "code",
   "execution_count": 2,
   "id": "21e97305",
   "metadata": {},
   "outputs": [
    {
     "name": "stdout",
     "output_type": "stream",
     "text": [
      "   id              name    phone    address\n",
      "0   1         Kyaw Kyaw    12345        MDY\n",
      "1   2             Ma Ma    12345        MDY\n",
      "2   4             Mg Mg   454545        YGN\n",
      "3   5   Kaung Kaung 123   439752   Mandalay\n"
     ]
    }
   ],
   "source": [
    "# Execute a SQL query and load the results into a DataFrame\n",
    "df_query = pd.read_sql_query(\"SELECT * FROM contacts\", conn)\n",
    "\n",
    "# Print the first few rows of the DataFrame\n",
    "print(df_query.head())"
   ]
  },
  {
   "cell_type": "code",
   "execution_count": null,
   "id": "549912e5",
   "metadata": {},
   "outputs": [],
   "source": [
    "conn.close()  #close connection"
   ]
  }
 ],
 "metadata": {
  "kernelspec": {
   "display_name": "Python 3",
   "language": "python",
   "name": "python3"
  },
  "language_info": {
   "codemirror_mode": {
    "name": "ipython",
    "version": 3
   },
   "file_extension": ".py",
   "mimetype": "text/x-python",
   "name": "python",
   "nbconvert_exporter": "python",
   "pygments_lexer": "ipython3",
   "version": "3.12.7"
  }
 },
 "nbformat": 4,
 "nbformat_minor": 5
}
