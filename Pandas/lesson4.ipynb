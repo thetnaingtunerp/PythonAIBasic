{
 "cells": [
  {
   "cell_type": "code",
   "execution_count": null,
   "id": "d3e4d0b4",
   "metadata": {},
   "outputs": [],
   "source": [
    "# !pip install pandas\n",
    "# !pip install openpyxl\n",
    "# !pip install matplotlib\n",
    "\n",
    "import pandas as pd\n",
    "import matplotlib.pyplot as plt\n",
    "df1 = pd.read_csv('data.csv')\n",
    "x = df1['Duration']\n",
    "y = df1['Calories']\n",
    "\n",
    "plt.bar(x, y)\n"
   ]
  },
  {
   "cell_type": "code",
   "execution_count": null,
   "id": "76b2d2be",
   "metadata": {},
   "outputs": [],
   "source": [
    "import matplotlib.pyplot as plt\n",
    "\n",
    "x = [10,20,30,40,50]\n",
    "y = [22,4,6,8,9]\n",
    "z = [1,3,6,7,9]\n",
    "\n",
    "xx = [3,6,7,9,20]\n",
    "yy = [20,30,22,45,46]\n",
    "zz = [2,4,6,8,10]\n",
    "\n",
    "fig = plt.figure()\n",
    "ax = fig.add_subplot(projection='3d')\n",
    "# Plot the surface\n",
    "ax.plot_surface(x, y, z)\n",
    "\n",
    "# Set an equal aspect ratio\n",
    "ax.set_aspect('equal')\n",
    "\n",
    "plt.show()\n"
   ]
  }
 ],
 "metadata": {
  "kernelspec": {
   "display_name": "Python 3",
   "language": "python",
   "name": "python3"
  },
  "language_info": {
   "codemirror_mode": {
    "name": "ipython",
    "version": 3
   },
   "file_extension": ".py",
   "mimetype": "text/x-python",
   "name": "python",
   "nbconvert_exporter": "python",
   "pygments_lexer": "ipython3",
   "version": "3.12.10"
  }
 },
 "nbformat": 4,
 "nbformat_minor": 5
}
