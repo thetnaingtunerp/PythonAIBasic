{
 "cells": [
  {
   "cell_type": "code",
   "execution_count": 9,
   "id": "87f3eedf",
   "metadata": {},
   "outputs": [
    {
     "name": "stdout",
     "output_type": "stream",
     "text": [
      "         NAME     DEPT      ROLE  ATT DAY    SALY     TA\n",
      "0         MIN     SALE     ADMIN     15.0  250000  30000\n",
      "1       KHANT      RMS  MANANGER     20.0  250000  40000\n",
      "2         THU  ACCOUNT      TTMY     25.0  250000  50000\n",
      "3   MIN KHANT      GRG    CLEAER     13.0  250000  26000\n",
      "4   KHANT MIN     SALE     SUPER      NaN  250000      0\n",
      "5     MIN THU      RMS     ADMIN     15.0  250000  30000\n",
      "6         THU  ACCOUNT  MANANGER     20.0  400000  40000\n",
      "7       KHANT      GRG      TTMY     25.0  250000  50000\n",
      "8     MIN MIN     SALE    CLEAER     13.0  250000  26000\n",
      "9        SHWE      RMS     SUPER     18.0  250000   -290\n",
      "10      YAMIN  ACCOUNT     ADMIN     15.0  250000  30000\n",
      "11    ZAW GYI      GRG  MANANGER     20.0  400000  40000\n",
      "12    MA PANN     SALE      TTMY     25.0  250000  50000\n",
      "13  THET HINN      RMS    CLEAER     13.0  150000  26000\n",
      "14   AYE MYAT  ACCOUNT     SUPER     18.0  250000  36000\n",
      "15    HSU LAL      GRG     ADMIN     15.0  250000  30000\n",
      "16    MAY THU     SALE  MANANGER     20.0  250000  40000\n",
      "17     THAZIN      RMS      TTMY     25.0  250000  50000\n",
      "18        ZIN  ACCOUNT    CLEAER     13.0  250000  26000\n",
      "0         MIN     SALE     ADMIN     15.0  250000  30000\n",
      "1       KHANT      RMS  MANANGER     20.0  250000  40000\n",
      "2         THU  ACCOUNT      TTMY     25.0  250000  50000\n",
      "3   MIN KHANT      GRG    CLEAER     13.0  250000  26000\n",
      "4   KHANT MIN     SALE     SUPER      NaN  250000      0\n",
      "5     MIN THU      RMS     ADMIN     15.0  250000  30000\n",
      "6         THU  ACCOUNT  MANANGER     20.0  400000  40000\n",
      "7       KHANT      GRG      TTMY     25.0  250000  50000\n",
      "8     MIN MIN     SALE    CLEAER     13.0  250000  26000\n",
      "9        SHWE      RMS     SUPER     18.0  250000   -290\n",
      "10      YAMIN  ACCOUNT     ADMIN     15.0  250000  30000\n",
      "11    ZAW GYI      GRG  MANANGER     20.0  400000  40000\n",
      "12    MA PANN     SALE      TTMY     25.0  250000  50000\n",
      "13  THET HINN      RMS    CLEAER     13.0  150000  26000\n",
      "14   AYE MYAT  ACCOUNT     SUPER     18.0  250000  36000\n",
      "15    HSU LAL      GRG     ADMIN     15.0  250000  30000\n",
      "16    MAY THU     SALE  MANANGER     20.0  250000  40000\n",
      "17     THAZIN      RMS      TTMY     25.0  250000  50000\n",
      "18        ZIN  ACCOUNT    CLEAER     13.0  250000  26000\n",
      "0         MIN     SALE     ADMIN     15.0  250000  30000\n",
      "1       KHANT      RMS  MANANGER     20.0  250000  40000\n",
      "2         THU  ACCOUNT      TTMY     25.0  250000  50000\n",
      "3   MIN KHANT      GRG    CLEAER     13.0  250000  26000\n",
      "4   KHANT MIN     SALE     SUPER      NaN  250000      0\n",
      "5     MIN THU      RMS     ADMIN     15.0  250000  30000\n",
      "6         THU  ACCOUNT  MANANGER     20.0  400000  40000\n",
      "7       KHANT      GRG      TTMY     25.0  250000  50000\n",
      "8     MIN MIN     SALE    CLEAER     13.0  250000  26000\n",
      "9        SHWE      RMS     SUPER     18.0  250000   -290\n",
      "10      YAMIN  ACCOUNT     ADMIN     15.0  250000  30000\n",
      "11    ZAW GYI      GRG  MANANGER     20.0  400000  40000\n",
      "12    MA PANN     SALE      TTMY     25.0  250000  50000\n",
      "13  THET HINN      RMS    CLEAER     13.0  150000  26000\n",
      "14   AYE MYAT  ACCOUNT     SUPER     18.0  250000  36000\n",
      "15    HSU LAL      GRG     ADMIN     15.0  250000  30000\n",
      "16    MAY THU     SALE  MANANGER     20.0  250000  40000\n",
      "17     THAZIN      RMS      TTMY     25.0  250000  50000\n",
      "18        ZIN  ACCOUNT    CLEAER     13.0  250000  26000\n"
     ]
    }
   ],
   "source": [
    "import pandas as pd\n",
    "df1 = pd.read_excel('data1.xlsx')\n",
    "df2 = pd.read_excel('data1.xlsx')\n",
    "df4 = pd.read_excel('data1.xlsx')\n",
    "frames = [df1, df2, df4]\n",
    "df3 = pd.concat(frames)\n",
    "print(df3)"
   ]
  }
 ],
 "metadata": {
  "kernelspec": {
   "display_name": "Python 3",
   "language": "python",
   "name": "python3"
  },
  "language_info": {
   "codemirror_mode": {
    "name": "ipython",
    "version": 3
   },
   "file_extension": ".py",
   "mimetype": "text/x-python",
   "name": "python",
   "nbconvert_exporter": "python",
   "pygments_lexer": "ipython3",
   "version": "3.12.7"
  }
 },
 "nbformat": 4,
 "nbformat_minor": 5
}
