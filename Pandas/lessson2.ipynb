{
 "cells": [
  {
   "cell_type": "code",
   "execution_count": null,
   "id": "72adb62a",
   "metadata": {},
   "outputs": [],
   "source": [
    "import pandas as pd\n",
    "import sqlite3\n",
    "#csv\n",
    "# df = pd.read_csv('data.csv')\n",
    "# df = pd.read_excel()\n",
    "# df = pd.read_json('myjson.json')\n",
    "con = sqlite3.connect('mydb.db')\n",
    "db = pd.read_sql_query('select * from contacts',con)\n",
    "# print(df.info())\n",
    "# print(df.describe())\n",
    "# print(df.head())#top row\n",
    "# print(df.tail(10))# last row\n",
    "# print(df)\n",
    "# print(df[['Calories','Duration']].head())\n",
    "# filterdata = df[(df['Duration'] > 60) & (df['Maxpulse'] > 150)]\n",
    "\n",
    "print(db)\n"
   ]
  },
  {
   "cell_type": "code",
   "execution_count": null,
   "id": "549d7335",
   "metadata": {},
   "outputs": [],
   "source": [
    "# !pip install openpyxl\n",
    "import pandas as pd\n",
    "df1 = pd.read_excel('data1.xlsx')\n",
    "print(df1)"
   ]
  }
 ],
 "metadata": {
  "kernelspec": {
   "display_name": "Python 3",
   "language": "python",
   "name": "python3"
  },
  "language_info": {
   "codemirror_mode": {
    "name": "ipython",
    "version": 3
   },
   "file_extension": ".py",
   "mimetype": "text/x-python",
   "name": "python",
   "nbconvert_exporter": "python",
   "pygments_lexer": "ipython3",
   "version": "3.12.7"
  }
 },
 "nbformat": 4,
 "nbformat_minor": 5
}
