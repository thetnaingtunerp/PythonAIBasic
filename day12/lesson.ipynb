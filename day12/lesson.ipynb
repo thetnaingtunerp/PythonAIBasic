{
 "cells": [
  {
   "cell_type": "code",
   "execution_count": null,
   "id": "9c7123c0",
   "metadata": {},
   "outputs": [],
   "source": [
    "1 . pack()\n",
    "2 . grid()\n",
    "3 . place()"
   ]
  },
  {
   "cell_type": "code",
   "execution_count": null,
   "id": "58bf5144",
   "metadata": {},
   "outputs": [],
   "source": [
    "import tkinter as tk\n",
    "\n",
    "wf = tk.Tk()\n",
    "wf.title('this is first window')\n",
    "wf.geometry('400x300')\n",
    "# wf.resizable(width=False, height=False)\n",
    "\n",
    "lbl = tk.Label(text='Hello World, this is label', font=('Arial Black', 20)) #widget\n",
    "lbl.pack(side='top') #top, left , right, bottom\n",
    "\n",
    "inp = tk.Entry()\n",
    "# inp = tk.Entry(show='*')\n",
    "inp.pack()\n",
    "\n",
    "btn = tk.Button(text='Submit')\n",
    "btn.pack()\n",
    "\n",
    "wf.mainloop()"
   ]
  },
  {
   "cell_type": "code",
   "execution_count": null,
   "id": "724bd85e",
   "metadata": {},
   "outputs": [],
   "source": [
    "import tkinter as tk\n",
    "\n",
    "wf = tk.Tk()\n",
    "wf.title('this is first window')\n",
    "wf.geometry('400x300')\n",
    "\n",
    "\n",
    "username = tk.Label(text='Username' , bg='yellow', fg='red')\n",
    "password = tk.Label(text='Password', bg='yellow', fg=\"#299b42\")\n",
    "usr = tk.Entry()\n",
    "pad = tk.Entry()\n",
    "\n",
    "btn = tk.Button(text='Login', bg='blue', fg='white')\n",
    "\n",
    "username.pack()\n",
    "usr.pack()\n",
    "password.pack()\n",
    "pad.pack()\n",
    "btn.pack()\n",
    "\n",
    "\n",
    "\n",
    "wf.mainloop()"
   ]
  },
  {
   "cell_type": "code",
   "execution_count": 1,
   "id": "11db60d8",
   "metadata": {},
   "outputs": [],
   "source": [
    "import tkinter as tk\n",
    "\n",
    "wf = tk.Tk()\n",
    "wf.title('this is first window')\n",
    "wf.geometry('400x300')\n",
    "\n",
    "def usrinfo():\n",
    "    u =usr.get()\n",
    "    p = pad.get()\n",
    "    if u == 'admin' and p =='1234':\n",
    "        print('login success')\n",
    "    else:\n",
    "        print('login fail')\n",
    "\n",
    "username = tk.Label(text='Username' , bg='yellow', fg='red')\n",
    "password = tk.Label(text='Password', bg='yellow', fg=\"#299b42\")\n",
    "usr = tk.Entry()\n",
    "pad = tk.Entry()\n",
    "btn = tk.Button(text='Login', bg='blue', fg='white', command=lambda:usrinfo())\n",
    "\n",
    "# grid(row=, colum=1)\n",
    "\n",
    "username.grid(row=2, column=2, padx=10, pady=5)\n",
    "usr.grid(row=2, column=3)\n",
    "password.grid(row=3, column=2,padx=10, pady=5)\n",
    "pad.grid(row=3, column=3)\n",
    "btn.grid(row=4, column=3, pady=10)\n",
    "\n",
    "\n",
    "\n",
    "wf.mainloop()"
   ]
  }
 ],
 "metadata": {
  "kernelspec": {
   "display_name": "Python 3",
   "language": "python",
   "name": "python3"
  },
  "language_info": {
   "codemirror_mode": {
    "name": "ipython",
    "version": 3
   },
   "file_extension": ".py",
   "mimetype": "text/x-python",
   "name": "python",
   "nbconvert_exporter": "python",
   "pygments_lexer": "ipython3",
   "version": "3.12.10"
  }
 },
 "nbformat": 4,
 "nbformat_minor": 5
}
