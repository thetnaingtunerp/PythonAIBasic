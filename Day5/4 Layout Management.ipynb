{
 "cells": [
  {
   "cell_type": "markdown",
   "id": "30ee8e7a",
   "metadata": {},
   "source": [
    "#Pack()\n",
    "#Place()\n",
    "#Grid()"
   ]
  },
  {
   "cell_type": "code",
   "execution_count": null,
   "id": "8c41518e",
   "metadata": {},
   "outputs": [],
   "source": [
    "import tkinter as tk\n",
    "\n",
    "root = tk.Tk()\n",
    "root.title('Tkinter Pack Layout')\n",
    "root.geometry('600x400')\n",
    "\n",
    "label1 = tk.Label(root, text='Tkinter',bg='red',fg='white')\n",
    "label2 = tk.Label(root,text='Pack Layout',bg='green', fg='white')\n",
    "label3 = tk.Label(root, text='Demo',bg='blue', fg='white')\n",
    "\n",
    "label1.pack()\n",
    "label2.pack()\n",
    "label3.pack()\n",
    "\n",
    "root.mainloop()"
   ]
  },
  {
   "cell_type": "markdown",
   "id": "0402c01f",
   "metadata": {},
   "source": [
    "# Side\n",
    "label1.pack(side=tk.TOP)"
   ]
  },
  {
   "cell_type": "markdown",
   "id": "3b73d981",
   "metadata": {},
   "source": [
    "# Expand"
   ]
  },
  {
   "cell_type": "code",
   "execution_count": 2,
   "id": "eeabe371",
   "metadata": {},
   "outputs": [],
   "source": [
    "import tkinter as tk\n",
    "\n",
    "root = tk.Tk()\n",
    "root.title('Tkinter Pack Layout')\n",
    "root.geometry('600x400')\n",
    "\n",
    "label1 = tk.Label(root, text='Tkinter',bg='red',fg='white')\n",
    "label2 = tk.Label(root, text='Pack Layout',bg='green', fg='white')\n",
    "label3 = tk.Label(root, text='Demo',bg='blue', fg='white')\n",
    "\n",
    "label1.pack(side=tk.LEFT, expand=True)\n",
    "label2.pack(side=tk.LEFT, expand=False)\n",
    "label3.pack(side=tk.LEFT, expand=False)\n",
    "\n",
    "root.mainloop()"
   ]
  },
  {
   "cell_type": "markdown",
   "id": "e627beb9",
   "metadata": {},
   "source": [
    "# Fill"
   ]
  },
  {
   "cell_type": "code",
   "execution_count": 3,
   "id": "5eaa5ddf",
   "metadata": {},
   "outputs": [],
   "source": [
    "import tkinter as tk\n",
    "\n",
    "root = tk.Tk()\n",
    "root.title('Tkinter Pack Layout')\n",
    "root.geometry('600x400')\n",
    "\n",
    "label1 = tk.Label(root, text='Tkinter',bg='red',fg='white')\n",
    "label2 = tk.Label(root,text='Pack Layout',bg='green', fg='white')\n",
    "label3 = tk.Label(root, text='Fill',bg='blue', fg='white')\n",
    "label4 = tk.Label(root, text='Demo',bg='purple', fg='white')\n",
    "\n",
    "label1.pack(side=tk.TOP, expand=True, fill=tk.X)\n",
    "label2.pack(side=tk.TOP, expand=True, fill=tk.Y)\n",
    "label3.pack(side=tk.TOP, expand=True, fill=tk.NONE)\n",
    "label4.pack(side=tk.TOP, expand=True, fill=tk.BOTH)\n",
    "\n",
    "\n",
    "root.mainloop()"
   ]
  }
 ],
 "metadata": {
  "kernelspec": {
   "display_name": "Python 3",
   "language": "python",
   "name": "python3"
  },
  "language_info": {
   "codemirror_mode": {
    "name": "ipython",
    "version": 3
   },
   "file_extension": ".py",
   "mimetype": "text/x-python",
   "name": "python",
   "nbconvert_exporter": "python",
   "pygments_lexer": "ipython3",
   "version": "3.13.3"
  }
 },
 "nbformat": 4,
 "nbformat_minor": 5
}
