{
 "cells": [
  {
   "cell_type": "markdown",
   "id": "debd7012",
   "metadata": {},
   "source": [
    "Label Widget"
   ]
  },
  {
   "cell_type": "code",
   "execution_count": 1,
   "id": "50fe502a",
   "metadata": {},
   "outputs": [],
   "source": [
    "import tkinter as tk\n",
    "from tkinter import ttk\n",
    "\n",
    "root = tk.Tk()\n",
    "\n",
    "tk.Label(root, text='Classic Label').pack()\n",
    "ttk.Label(root, text='Themed Label').pack()\n",
    "\n",
    "root.mainloop()"
   ]
  },
  {
   "cell_type": "markdown",
   "id": "88183c15",
   "metadata": {},
   "source": [
    "button = ttk.Button(\n",
    "   master, \n",
    "   text=label,\n",
    "   command=fn\n",
    ")\n",
    "\n",
    "# Command callback\n",
    "def callback():\n",
    "    # do something\n",
    "\n",
    "\n",
    "ttk.Button(\n",
    "   root, \n",
    "   text=\"Click Me\", \n",
    "   command=callback\n",
    ")\n",
    "\n"
   ]
  },
  {
   "cell_type": "code",
   "execution_count": null,
   "id": "bf309c60",
   "metadata": {},
   "outputs": [],
   "source": [
    "import tkinter as tk\n",
    "from tkinter import ttk\n",
    "\n",
    "# main window\n",
    "root = tk.Tk()\n",
    "root.geometry('300x200')\n",
    "root.resizable(False, False)\n",
    "root.title('Button Demo')\n",
    "\n",
    "# exit button\n",
    "exit_button = ttk.Button(\n",
    "    root,\n",
    "    text='Exit',\n",
    "    command=lambda: root.quit()\n",
    ")\n",
    "\n",
    "exit_button.pack(\n",
    "    ipadx=5,\n",
    "    ipady=5,\n",
    "    expand=True\n",
    ")\n",
    "\n",
    "root.mainloop()"
   ]
  },
  {
   "cell_type": "markdown",
   "id": "b5c7de48",
   "metadata": {},
   "source": [
    "## Check Button\n",
    "checkbox = ttk.Checkbutton(\n",
    "    master,\n",
    "    text='<checkbox label>',\n",
    "    command=callback,\n",
    "    variable=variable,\n",
    "    onvalue='<value_when_checked>',\n",
    "    offvalue='<value_when_unchecked>'\n",
    ")"
   ]
  },
  {
   "cell_type": "code",
   "execution_count": 2,
   "id": "b80bbeaf",
   "metadata": {},
   "outputs": [],
   "source": [
    "import tkinter as tk\n",
    "from tkinter import ttk\n",
    "from tkinter.messagebox import showinfo\n",
    "\n",
    "root = tk.Tk()\n",
    "root.geometry('300x200')\n",
    "root.title('Checkbox Demo')\n",
    "\n",
    "\n",
    "def show_message():\n",
    "    showinfo(\n",
    "        title='Result',\n",
    "        message='You agreed.' if agreement_var.get() else 'You did not agree.'\n",
    "    )\n",
    "\n",
    "\n",
    "agreement_var = tk.BooleanVar()\n",
    "\n",
    "checkbox = ttk.Checkbutton(\n",
    "    root,\n",
    "    text='I agree',\n",
    "    command=show_message,\n",
    "    variable=agreement_var\n",
    ")\n",
    "\n",
    "checkbox.pack()\n",
    "\n",
    "\n",
    "root.mainloop()"
   ]
  },
  {
   "cell_type": "markdown",
   "id": "56c39dfc",
   "metadata": {},
   "source": [
    "# Tkinter Entry"
   ]
  },
  {
   "cell_type": "code",
   "execution_count": null,
   "id": "2a2af47f",
   "metadata": {},
   "outputs": [],
   "source": [
    "import tkinter as tk\n",
    "from tkinter import ttk\n",
    "\n",
    "root = tk.Tk()\n",
    "root.geometry('300x200')\n",
    "root.title('Entry Widget Demo')\n",
    "\n",
    "\n",
    "name_entry = ttk.Entry(root)\n",
    "name_entry.pack()\n",
    "\n",
    "\n",
    "root.mainloop()"
   ]
  },
  {
   "cell_type": "markdown",
   "id": "68a3a431",
   "metadata": {},
   "source": [
    "# Tkinter Menubutton"
   ]
  }
 ],
 "metadata": {
  "kernelspec": {
   "display_name": "Python 3",
   "language": "python",
   "name": "python3"
  },
  "language_info": {
   "codemirror_mode": {
    "name": "ipython",
    "version": 3
   },
   "file_extension": ".py",
   "mimetype": "text/x-python",
   "name": "python",
   "nbconvert_exporter": "python",
   "pygments_lexer": "ipython3",
   "version": "3.13.3"
  }
 },
 "nbformat": 4,
 "nbformat_minor": 5
}
