{
 "cells": [
  {
   "cell_type": "markdown",
   "id": "dae8f893",
   "metadata": {},
   "source": [
    "Tkinter Windwo"
   ]
  },
  {
   "cell_type": "code",
   "execution_count": null,
   "id": "99411cd0",
   "metadata": {},
   "outputs": [],
   "source": [
    "import tkinter as tk\n",
    "\n",
    "root = tk.Tk()\n",
    "root.title('Tkinter Window Demo')\n",
    "root.geometry('600x400+50+50')\n",
    "\n",
    "root.mainloop()"
   ]
  },
  {
   "cell_type": "markdown",
   "id": "4f9bf6a5",
   "metadata": {},
   "source": [
    "Resizeable"
   ]
  },
  {
   "cell_type": "code",
   "execution_count": null,
   "id": "4bd66f73",
   "metadata": {},
   "outputs": [],
   "source": [
    "import tkinter as tk\n",
    "\n",
    "root = tk.Tk()\n",
    "root.title('Tkinter Window Demo')\n",
    "root.geometry('600x400+50+50')\n",
    "root.resizable(False, False)\n",
    "\n",
    "root.mainloop()"
   ]
  },
  {
   "cell_type": "markdown",
   "id": "7f38dd85",
   "metadata": {},
   "source": [
    "Transparency"
   ]
  },
  {
   "cell_type": "code",
   "execution_count": null,
   "id": "26340f01",
   "metadata": {},
   "outputs": [],
   "source": [
    "import tkinter as tk\n",
    "\n",
    "root = tk.Tk()\n",
    "root.title('Tkinter Window Demo')\n",
    "root.geometry('600x400+50+50')\n",
    "root.resizable(False, False)\n",
    "root.attributes('-alpha', 0.5)\n",
    "\n",
    "root.mainloop()"
   ]
  },
  {
   "cell_type": "markdown",
   "id": "6cb0055b",
   "metadata": {},
   "source": [
    "Change ICON"
   ]
  },
  {
   "cell_type": "code",
   "execution_count": null,
   "id": "530fba10",
   "metadata": {},
   "outputs": [],
   "source": [
    "import tkinter as tk\n",
    "root = tk.Tk()\n",
    "root.title('Tkinter Window Demo')\n",
    "root.geometry('300x200+50+50')\n",
    "root.resizable(False, False)\n",
    "# Ensure icon is in the assets folder relative to your script.\n",
    "root.iconbitmap('./assets/pythontutorial.ico')\n",
    "\n",
    "root.mainloop()"
   ]
  }
 ],
 "metadata": {
  "kernelspec": {
   "display_name": "Python 3",
   "language": "python",
   "name": "python3"
  },
  "language_info": {
   "codemirror_mode": {
    "name": "ipython",
    "version": 3
   },
   "file_extension": ".py",
   "mimetype": "text/x-python",
   "name": "python",
   "nbconvert_exporter": "python",
   "pygments_lexer": "ipython3",
   "version": "3.13.3"
  }
 },
 "nbformat": 4,
 "nbformat_minor": 5
}
