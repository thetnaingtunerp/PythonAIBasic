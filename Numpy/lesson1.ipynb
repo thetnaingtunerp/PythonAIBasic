{
 "cells": [
  {
   "cell_type": "code",
   "execution_count": 11,
   "id": "dfde63cc",
   "metadata": {},
   "outputs": [
    {
     "name": "stdout",
     "output_type": "stream",
     "text": [
      "3\n",
      "(2, 2, 5)\n"
     ]
    }
   ],
   "source": [
    "# pip install numpy\n",
    "import numpy as np\n",
    "\n",
    "array1 = np.array(\n",
    "    [\n",
    "    [ [1, 2, 3, 4, 5], [2,4,6,8,10]],\n",
    "    [ [6, 7, 8, 9, 10], [12,14,16,18,20]]\n",
    "    ]\n",
    "    )\n",
    "\n",
    "print(array1.ndim)\n",
    "print(array1.shape)\n"
   ]
  },
  {
   "cell_type": "code",
   "execution_count": null,
   "id": "d73673b9",
   "metadata": {},
   "outputs": [
    {
     "name": "stdout",
     "output_type": "stream",
     "text": [
      "2\n",
      "(2, 5)\n"
     ]
    }
   ],
   "source": [
    "import numpy as np\n",
    "\n",
    "array1 = np.array([\n",
    "    [1, 2, 3, 4, 5], \n",
    "    [2, 4, 6, 8, 10]\n",
    "    ])\n",
    "\n",
    "#shape \n",
    "print(array1.ndim)\n",
    "print(array1.shape)\n",
    "\n",
    "\n"
   ]
  },
  {
   "cell_type": "code",
   "execution_count": null,
   "id": "b1d4fa06",
   "metadata": {},
   "outputs": [
    {
     "name": "stdout",
     "output_type": "stream",
     "text": [
      "3\n",
      "(2, 2, 5)\n",
      "14\n"
     ]
    }
   ],
   "source": [
    "import numpy as np\n",
    "\n",
    "array2 = np.array(\n",
    "    [\n",
    "    [ [1, 2, 3, 4, 5], [2,4,6,8,10]],\n",
    "    [ [6, 7, 8, 9, 10], [12,14,16,18,20]]\n",
    "    ]\n",
    "    )\n",
    "\n",
    "print(array2.ndim)\n",
    "print(array2.shape)\n",
    "print(array2[1, 1, 1])  # Accessing the first element of the first sub-array\n"
   ]
  },
  {
   "cell_type": "code",
   "execution_count": null,
   "id": "444a9468",
   "metadata": {},
   "outputs": [
    {
     "name": "stdout",
     "output_type": "stream",
     "text": [
      "[ 3  4  5  6  7  8  9 10]\n",
      "[ 3  4  5  6  7  8  9 10]\n",
      "[1 2 3 4 5]\n"
     ]
    }
   ],
   "source": [
    "import numpy as np\n",
    "arr = np.array([1, 2, 3, 4, 5, 6, 7, 8, 9, 10])\n",
    "\n",
    "print(arr[2:10])\n",
    "print(arr[2:])\n",
    "print(arr[:5])\n",
    "# sliceing "
   ]
  },
  {
   "cell_type": "code",
   "execution_count": null,
   "id": "3eff3c23",
   "metadata": {},
   "outputs": [
    {
     "name": "stdout",
     "output_type": "stream",
     "text": [
      "3\n",
      "(1, 3, 5)\n",
      "[ 6  8 10]\n"
     ]
    }
   ],
   "source": [
    "import numpy as np\n",
    "arr = np.array(\n",
    "    [[[1, 2, 3, 4, 5],\n",
    "      [2, 4, 6, 8, 10],\n",
    "      [6, 7, 8, 9, 10]]]\n",
    "    )\n",
    "\n",
    "print(arr.ndim)\n",
    "print(arr.shape)\n",
    "print(arr[0,1,2:])\n",
    "#8,9,10\n"
   ]
  },
  {
   "cell_type": "code",
   "execution_count": null,
   "id": "3894ab3d",
   "metadata": {},
   "outputs": [
    {
     "name": "stdout",
     "output_type": "stream",
     "text": [
      "3\n"
     ]
    }
   ],
   "source": [
    "import numpy as np\n",
    "array1 = np.array(\n",
    "    [[[1, 2, 3, 4, 5, 6, 7, 8, 9, 10],\n",
    "     [2, 4, 6, 8, 10, 12, 14, 16, 18, 20],\n",
    "     [6, 7, 8, 9, 10, 11, 12, 13, 14, 15]]]\n",
    "    )\n",
    "print(array1.ndim)  # Accessing elements from index 2 to 7 in the second row\n",
    "\n"
   ]
  }
 ],
 "metadata": {
  "kernelspec": {
   "display_name": "Python 3",
   "language": "python",
   "name": "python3"
  },
  "language_info": {
   "codemirror_mode": {
    "name": "ipython",
    "version": 3
   },
   "file_extension": ".py",
   "mimetype": "text/x-python",
   "name": "python",
   "nbconvert_exporter": "python",
   "pygments_lexer": "ipython3",
   "version": "3.13.3"
  }
 },
 "nbformat": 4,
 "nbformat_minor": 5
}
