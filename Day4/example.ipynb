{
 "cells": [
  {
   "cell_type": "code",
   "execution_count": null,
   "id": "5cba6e54",
   "metadata": {},
   "outputs": [
    {
     "name": "stdout",
     "output_type": "stream",
     "text": [
      "Your Adult\n"
     ]
    }
   ],
   "source": [
    "age = 20\n",
    "if age > 18:\n",
    "    print('Your Adult')\n",
    "else:\n",
    "    print('Yong')"
   ]
  },
  {
   "cell_type": "markdown",
   "id": "a71cd932",
   "metadata": {},
   "source": [
    "Function Arg\n",
    "def keyword"
   ]
  },
  {
   "cell_type": "code",
   "execution_count": null,
   "id": "ca2a2bff",
   "metadata": {},
   "outputs": [
    {
     "name": "stdout",
     "output_type": "stream",
     "text": [
      "admin\n"
     ]
    }
   ],
   "source": [
    "def Login(*mgmg):\n",
    "    print(username)\n",
    "    print(password)\n",
    "    # if user == \"admin\" and password == '12345':\n",
    "    #     print('Login Success')\n",
    "    # else:\n",
    "    #     print('Login Fail')\n",
    "    \n",
    "username = input('Enter Username')\n",
    "password = input('Enter Password')\n",
    "\n",
    "Login(password, username)\n"
   ]
  },
  {
   "cell_type": "code",
   "execution_count": 18,
   "id": "5dde8c07",
   "metadata": {},
   "outputs": [
    {
     "name": "stdout",
     "output_type": "stream",
     "text": [
      "admin\n",
      "1234\n"
     ]
    }
   ],
   "source": [
    "def Login(**mgmg):\n",
    "    print(mgmg['user'])\n",
    "    print(mgmg['pword'])\n",
    "        \n",
    "username = input('Enter Username')\n",
    "password = input('Enter Password')\n",
    "\n",
    "Login(pword=password, user=username)\n"
   ]
  },
  {
   "cell_type": "code",
   "execution_count": 19,
   "id": "3b4e432e",
   "metadata": {},
   "outputs": [
    {
     "name": "stdout",
     "output_type": "stream",
     "text": [
      "5\n"
     ]
    }
   ],
   "source": [
    "a = lambda x, y: x+y\n",
    "print(a(2,3))"
   ]
  }
 ],
 "metadata": {
  "kernelspec": {
   "display_name": "Python 3",
   "language": "python",
   "name": "python3"
  },
  "language_info": {
   "codemirror_mode": {
    "name": "ipython",
    "version": 3
   },
   "file_extension": ".py",
   "mimetype": "text/x-python",
   "name": "python",
   "nbconvert_exporter": "python",
   "pygments_lexer": "ipython3",
   "version": "3.13.3"
  }
 },
 "nbformat": 4,
 "nbformat_minor": 5
}
