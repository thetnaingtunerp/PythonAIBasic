{
 "cells": [
  {
   "cell_type": "code",
   "execution_count": null,
   "id": "485d0358",
   "metadata": {},
   "outputs": [],
   "source": [
    "# 1 numpy, pandas, matplotlib data profile\n",
    "\n",
    "# 2 flask web framework\n",
    "\n",
    "# 3 tkinter desktop gui, pyQt \n",
    "\n",
    "# 4 google chart + flask,  ploty"
   ]
  },
  {
   "cell_type": "markdown",
   "id": "e9cfba55",
   "metadata": {},
   "source": [
    "mg phone : flask, pandas plot\n",
    "flask dashborad"
   ]
  }
 ],
 "metadata": {
  "language_info": {
   "name": "python"
  }
 },
 "nbformat": 4,
 "nbformat_minor": 5
}
