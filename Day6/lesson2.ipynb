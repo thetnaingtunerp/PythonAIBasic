{
 "cells": [
  {
   "cell_type": "code",
   "execution_count": 2,
   "id": "1d60aae5",
   "metadata": {},
   "outputs": [
    {
     "name": "stdout",
     "output_type": "stream",
     "text": [
      "Contact with ID 6 deleted successfully.\n"
     ]
    }
   ],
   "source": [
    "import sqlite3\n",
    "conn = sqlite3.connect('example1.db')\n",
    "c = conn.cursor()\n",
    "\n",
    "id = int(input(\"Enter contact ID to Delete: \"))\n",
    "\n",
    "def insert_contact(name, phone, address):\n",
    "    c.execute(\"INSERT INTO contacts (name, phone, address) VALUES (?, ?, ?)\",\n",
    "          (name, phone, address))\n",
    "\n",
    "def delete_contact(id):\n",
    "    c.execute(\"DELETE FROM contacts WHERE id = ?\", (id,))\n",
    "    print(f\"Contact with ID {id} deleted successfully.\")\n",
    "\n",
    "delete_contact(id)\n",
    "\n",
    "conn.commit()\n",
    "conn.close()"
   ]
  }
 ],
 "metadata": {
  "kernelspec": {
   "display_name": "Python 3",
   "language": "python",
   "name": "python3"
  },
  "language_info": {
   "codemirror_mode": {
    "name": "ipython",
    "version": 3
   },
   "file_extension": ".py",
   "mimetype": "text/x-python",
   "name": "python",
   "nbconvert_exporter": "python",
   "pygments_lexer": "ipython3",
   "version": "3.12.7"
  }
 },
 "nbformat": 4,
 "nbformat_minor": 5
}
