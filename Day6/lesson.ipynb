{
 "cells": [
  {
   "cell_type": "code",
   "execution_count": 26,
   "id": "0a3a90e9",
   "metadata": {},
   "outputs": [
    {
     "name": "stdout",
     "output_type": "stream",
     "text": [
      "(1, 'John Doe', '123-456-7890', '123 Elm St')\n",
      "(3, 'John Doe', '123-456-7890', '123 Elm St')\n",
      "(4, 'Jane Smith', '987-654-3210', '456 Oak St')\n",
      "(5, 'John Doe', '123-456-7890', '123 Elm St')\n",
      "(6, 'Jane Smith', '987-654-3210', '456 Oak St')\n"
     ]
    }
   ],
   "source": [
    "# sqlite3\n",
    "import sqlite3\n",
    "# Create a connection to the database\n",
    "conn = sqlite3.connect('example1.db')\n",
    "c = conn.cursor()\n",
    "\n",
    "c.execute(\"\"\"CREATE TABLE IF NOT EXISTS contacts\n",
    "                (id INTEGER PRIMARY KEY AUTOINCREMENT,\n",
    "                 name TEXT,\n",
    "                 phone TEXT,\n",
    "                 address TEXT\n",
    "                 )\n",
    "            \"\"\")\n",
    "\n",
    "c.execute(\"INSERT INTO contacts (name, phone, address) VALUES ('John Doe', '123-456-7890', '123 Elm St')\")\n",
    "c.execute(\"INSERT INTO contacts (name, phone, address) VALUES ('Jane Smith', '987-654-3210', '456 Oak St')\")\n",
    "\n",
    "\n",
    "c.execute(\"SELECT * FROM contacts\")\n",
    "# datas = c.fetchall()\n",
    "datas = c.fetchmany(5)\n",
    "for data in datas:\n",
    "    print(data)\n",
    "\n",
    "\n",
    "# inert into contacts (name, phone, address) values ('John Doe', '123-456-7890', '123 Elm St')\n",
    "\n",
    "conn.commit()#save changes\n",
    "conn.close()#close connection"
   ]
  },
  {
   "cell_type": "code",
   "execution_count": 28,
   "id": "92d04e5f",
   "metadata": {},
   "outputs": [],
   "source": [
    "import sqlite3\n",
    "# Create a connection to the database\n",
    "conn = sqlite3.connect('example1.db')\n",
    "c = conn.cursor()\n",
    "\n",
    "c.execute(\"update contacts set address = 'Yangon', name='Aung Aung' where id = 3\")\n",
    "\n",
    "# c.execute(\"Drop table if exists contacts\")\n",
    "\n",
    "conn.commit()#save changes\n",
    "conn.close()#close connection"
   ]
  }
 ],
 "metadata": {
  "kernelspec": {
   "display_name": "Python 3",
   "language": "python",
   "name": "python3"
  },
  "language_info": {
   "codemirror_mode": {
    "name": "ipython",
    "version": 3
   },
   "file_extension": ".py",
   "mimetype": "text/x-python",
   "name": "python",
   "nbconvert_exporter": "python",
   "pygments_lexer": "ipython3",
   "version": "3.12.7"
  }
 },
 "nbformat": 4,
 "nbformat_minor": 5
}
